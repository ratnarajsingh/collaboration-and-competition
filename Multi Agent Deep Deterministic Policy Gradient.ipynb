{
 "cells": [
  {
   "cell_type": "markdown",
   "metadata": {},
   "source": [
    "## Import libraries and initiate the tennis environment"
   ]
  },
  {
   "cell_type": "code",
   "execution_count": 1,
   "metadata": {},
   "outputs": [],
   "source": [
    "import torch\n",
    "import numpy as np\n",
    "from collections import deque\n",
    "import matplotlib.pyplot as plt\n",
    "from unityagents import UnityEnvironment\n",
    "from agents.utils import OUNoise\n",
    "from time import time\n",
    "\n",
    "start = time()\n",
    "\n",
    "%matplotlib inline\n",
    "%load_ext autoreload\n",
    "%autoreload 2"
   ]
  },
  {
   "cell_type": "code",
   "execution_count": 2,
   "metadata": {},
   "outputs": [
    {
     "name": "stderr",
     "output_type": "stream",
     "text": [
      "INFO:unityagents:\n",
      "'Academy' started successfully!\n",
      "Unity Academy name: Academy\n",
      "        Number of Brains: 1\n",
      "        Number of External Brains : 1\n",
      "        Lesson number : 0\n",
      "        Reset Parameters :\n",
      "\t\t\n",
      "Unity brain name: TennisBrain\n",
      "        Number of Visual Observations (per agent): 0\n",
      "        Vector Observation space type: continuous\n",
      "        Vector Observation space size (per agent): 8\n",
      "        Number of stacked Vector Observation: 3\n",
      "        Vector Action space type: continuous\n",
      "        Vector Action space size (per agent): 2\n",
      "        Vector Action descriptions: , \n"
     ]
    }
   ],
   "source": [
    "env = UnityEnvironment(file_name=\"Tennis_Windows_x86_64/Tennis.exe\")\n",
    "# get the default brain\n",
    "brain_name = env.brain_names[0]\n",
    "brain = env.brains[brain_name]\n",
    "\n",
    "env_info = env.reset(train_mode=False)[brain_name]\n",
    "num_agents = len(env_info.agents)\n",
    "states = env_info.vector_observations\n",
    "action_size = brain.vector_action_space_size\n",
    "state_size = states.shape[1]"
   ]
  },
  {
   "cell_type": "code",
   "execution_count": 3,
   "metadata": {},
   "outputs": [],
   "source": [
    "def plot_result(scores):\n",
    "    # plot the scores\n",
    "    fig = plt.figure()\n",
    "    ax = fig.add_subplot(111)\n",
    "    plt.plot(np.arange(len(scores)), scores)\n",
    "    plt.ylabel('Score')\n",
    "    plt.xlabel('Episode #')\n",
    "    plt.show()"
   ]
  },
  {
   "cell_type": "code",
   "execution_count": 4,
   "metadata": {},
   "outputs": [],
   "source": [
    "def train(agent, n_episodes=500, noise = 1, noise_reduction=0.9999, train_mode=True):\n",
    "    \"\"\"\n",
    "    This method defines the how the agent is trained.\n",
    "    agent : Instance of MADDPG class with appropriate hyperparameters\n",
    "    n_episodes : Gives the number on eposides to run. The training loop breaks if either number of episodes are exceeded or the criterai is met\n",
    "    noise, noise_reduction : Its the \n",
    "    \"\"\"\n",
    "    scores = []                        # list containing scores from each episode\n",
    "    scores_window = deque(maxlen=100)  # last 100 scores\n",
    "    for i_episode in range(1, n_episodes+1):\n",
    "        env_info = env.reset(train_mode=train_mode)[brain_name]\n",
    "        states = env_info.vector_observations\n",
    "        scores_one_episode = np.zeros(2)\n",
    "        # reset the noise\n",
    "        agent.reset()\n",
    "        while True:\n",
    "            actions = agent.act(states, noise=noise)              # select an action (for each agent)\n",
    "            \n",
    "            # Concatenate all states and actions taken by all agents\n",
    "            # from agent 0 point of view, concatenate state seen by agent 0, state seen by agent 1, action agent 0, action agent 1\n",
    "            # from agent 1 point of view, concatenate state seen by agent 1, state seen by agent 0, action agent 1, action agent 0\n",
    "                \n",
    "            env_info = env.step(np.clip(actions, -1, 1))[brain_name]              # send all actions to the environment\n",
    "            next_states = env_info.vector_observations                            # get next state (for each agent)\n",
    "            rewards = env_info.rewards                                            # get reward (for each agent)\n",
    "            # lets try to promote cooperation\n",
    "            common_rewards = np.array(rewards)\n",
    "            common_rewards.fill(np.sum(common_rewards))\n",
    "            dones = env_info.local_done                                           # see if episode finished\n",
    "            agent.step(states, actions, common_rewards, next_states, dones)       # learn\n",
    "            states = next_states                                                  # roll over states to next time step\n",
    "            \n",
    "            scores_one_episode += rewards\n",
    "            if np.any(dones):                                                     # exit loop if episode finished\n",
    "                break\n",
    "                \n",
    "        noise = max(noise * noise_reduction, 0.01)        \n",
    "        score = np.max(scores_one_episode)\n",
    "        scores.append(score)\n",
    "        scores_window.append(score)\n",
    "        mean_100 = np.mean(scores_window)\n",
    "\n",
    "        if i_episode % 50 == 0:\n",
    "            print('\\rEpisode {}\\tAverage Score: {:.3f}\\tMax Score: {:.3f}\\tNoise: {:.3f}'.\n",
    "                      format(i_episode, \n",
    "                         mean_100, \n",
    "                         np.max(scores_window),\n",
    "                        noise))\n",
    "            agent.save(\"weights/eps_{}_avg_{}.pth\".format(i_episode, mean_100))\n",
    "            \n",
    "        if len(scores_window) >= 100 and np.mean(scores_window)>=0.5:\n",
    "            print('\\nEnvironment solved in {:d} episodes!\\tAverage Score: {:.3f}'.format(i_episode, mean_100))\n",
    "            agent.save(\"final_weights/final.pth\")\n",
    "            break\n",
    "            \n",
    "    return scores"
   ]
  },
  {
   "cell_type": "markdown",
   "metadata": {},
   "source": [
    "## Create agent and train\n",
    "* The MADDPG is one version of the DDPG that uses two pairs of Actor-Critic networks, local and target. As per the algorithm, knowledge of the states is shared by the agents by augmenting the critic network's input by giving full state observations as seen by each agent.\n",
    "* The hyperparameters are set and the agent is initialized"
   ]
  },
  {
   "cell_type": "code",
   "execution_count": 5,
   "metadata": {},
   "outputs": [
    {
     "name": "stdout",
     "output_type": "stream",
     "text": [
      "Episode 50\tAverage Score: 0.006\tMax Score: 0.100\tNoise: 0.980\n",
      "Episode 100\tAverage Score: 0.003\tMax Score: 0.100\tNoise: 0.961\n",
      "Episode 150\tAverage Score: 0.000\tMax Score: 0.000\tNoise: 0.942\n",
      "Episode 200\tAverage Score: 0.000\tMax Score: 0.000\tNoise: 0.923\n",
      "Episode 250\tAverage Score: 0.001\tMax Score: 0.100\tNoise: 0.905\n",
      "Episode 300\tAverage Score: 0.001\tMax Score: 0.100\tNoise: 0.887\n",
      "Episode 350\tAverage Score: 0.002\tMax Score: 0.100\tNoise: 0.869\n",
      "Episode 400\tAverage Score: 0.023\tMax Score: 0.100\tNoise: 0.852\n",
      "Episode 450\tAverage Score: 0.028\tMax Score: 0.100\tNoise: 0.835\n",
      "Episode 500\tAverage Score: 0.012\tMax Score: 0.100\tNoise: 0.819\n",
      "Episode 550\tAverage Score: 0.013\tMax Score: 0.100\tNoise: 0.802\n",
      "Episode 600\tAverage Score: 0.014\tMax Score: 0.200\tNoise: 0.787\n",
      "Episode 650\tAverage Score: 0.019\tMax Score: 0.300\tNoise: 0.771\n",
      "Episode 700\tAverage Score: 0.025\tMax Score: 0.300\tNoise: 0.756\n",
      "Episode 750\tAverage Score: 0.021\tMax Score: 0.200\tNoise: 0.741\n",
      "Episode 800\tAverage Score: 0.016\tMax Score: 0.100\tNoise: 0.726\n",
      "Episode 850\tAverage Score: 0.012\tMax Score: 0.100\tNoise: 0.712\n",
      "Episode 900\tAverage Score: 0.010\tMax Score: 0.200\tNoise: 0.698\n",
      "Episode 950\tAverage Score: 0.012\tMax Score: 0.200\tNoise: 0.684\n",
      "Episode 1000\tAverage Score: 0.008\tMax Score: 0.200\tNoise: 0.670\n",
      "Episode 1050\tAverage Score: 0.001\tMax Score: 0.090\tNoise: 0.657\n",
      "Episode 1100\tAverage Score: 0.000\tMax Score: 0.000\tNoise: 0.644\n",
      "Episode 1150\tAverage Score: 0.000\tMax Score: 0.000\tNoise: 0.631\n",
      "Episode 1200\tAverage Score: 0.000\tMax Score: 0.000\tNoise: 0.619\n",
      "Episode 1250\tAverage Score: 0.003\tMax Score: 0.100\tNoise: 0.606\n",
      "Episode 1300\tAverage Score: 0.010\tMax Score: 0.200\tNoise: 0.594\n",
      "Episode 1350\tAverage Score: 0.019\tMax Score: 0.300\tNoise: 0.583\n",
      "Episode 1400\tAverage Score: 0.024\tMax Score: 0.300\tNoise: 0.571\n",
      "Episode 1450\tAverage Score: 0.025\tMax Score: 0.200\tNoise: 0.560\n",
      "Episode 1500\tAverage Score: 0.029\tMax Score: 0.200\tNoise: 0.549\n",
      "Episode 1550\tAverage Score: 0.043\tMax Score: 0.200\tNoise: 0.538\n",
      "Episode 1600\tAverage Score: 0.055\tMax Score: 0.300\tNoise: 0.527\n",
      "Episode 1650\tAverage Score: 0.056\tMax Score: 0.300\tNoise: 0.517\n",
      "Episode 1700\tAverage Score: 0.052\tMax Score: 0.200\tNoise: 0.507\n",
      "Episode 1750\tAverage Score: 0.056\tMax Score: 0.190\tNoise: 0.497\n",
      "Episode 1800\tAverage Score: 0.066\tMax Score: 0.200\tNoise: 0.487\n",
      "Episode 1850\tAverage Score: 0.076\tMax Score: 0.300\tNoise: 0.477\n",
      "Episode 1900\tAverage Score: 0.089\tMax Score: 0.400\tNoise: 0.468\n",
      "Episode 1950\tAverage Score: 0.087\tMax Score: 0.400\tNoise: 0.458\n",
      "Episode 2000\tAverage Score: 0.083\tMax Score: 0.300\tNoise: 0.449\n",
      "Episode 2050\tAverage Score: 0.169\tMax Score: 1.100\tNoise: 0.440\n",
      "Episode 2100\tAverage Score: 0.177\tMax Score: 1.200\tNoise: 0.432\n",
      "Episode 2150\tAverage Score: 0.080\tMax Score: 1.200\tNoise: 0.423\n",
      "Episode 2200\tAverage Score: 0.082\tMax Score: 0.500\tNoise: 0.415\n",
      "Episode 2250\tAverage Score: 0.105\tMax Score: 0.500\tNoise: 0.406\n",
      "Episode 2300\tAverage Score: 0.145\tMax Score: 1.000\tNoise: 0.398\n",
      "\n",
      "Environment solved in 2341 episodes!\tAverage Score: 0.519\n"
     ]
    },
    {
     "data": {
      "image/png": "[encoded data removed]",
      "text/plain": [
       "<Figure size 432x288 with 1 Axes>"
      ]
     },
     "metadata": {
      "needs_background": "light"
     },
     "output_type": "display_data"
    }
   ],
   "source": [
    "from agents.utils import ReplayBuffer, SimpleNoise\n",
    "from agents.maddpg import MADDPG\n",
    "import torch.nn.functional as F\n",
    "import random\n",
    "\n",
    "device = torch.device(\"cuda:0\" if torch.cuda.is_available() else \"cpu\")\n",
    "# device = \"cpu\"\n",
    "seed = 257\n",
    "torch.manual_seed(seed)\n",
    "torch.cuda.manual_seed_all(seed)\n",
    "np.random.seed(seed)\n",
    "random.seed(seed)\n",
    "agent = MADDPG(states.shape[1], action_size, states.shape[0], device,seed=seed,\n",
    "               GRADIENT_CLIP = 3,\n",
    "               ACTIVATION = F.relu,\n",
    "               TAU=1e-3,\n",
    "               UPDATE_EVERY=8,\n",
    "               TRANSFER_EVERY=2,\n",
    "               UPDATE_LOOP=12,\n",
    "               ADD_NOISE_EVERY=1,\n",
    "               BOOTSTRAP_SIZE=4,\n",
    "               LR_CRITIC = 3e-4,\n",
    "               LR_ACTOR = 3e-4, \n",
    "               MEMORY_SIZE = 5e4,\n",
    "               BATCH_SIZE = 128\n",
    "              )\n",
    "scores = train(agent, n_episodes=60000, noise = 1, noise_reduction = 0.9996, train_mode=True)\n",
    "plot_result(scores)"
   ]
  },
  {
   "cell_type": "markdown",
   "metadata": {},
   "source": [
    "#### Continue the training with small noise"
   ]
  },
  {
   "cell_type": "code",
   "execution_count": 6,
   "metadata": {},
   "outputs": [],
   "source": [
    "# scores = train(agent, n_episodes=2000, noise = 0.02, noise_reduction = 0.99996, train_mode=True)\n",
    "# plot_result(scores)"
   ]
  },
  {
   "cell_type": "code",
   "execution_count": 7,
   "metadata": {},
   "outputs": [
    {
     "name": "stdout",
     "output_type": "stream",
     "text": [
      "Total time :1601.7732453346252\n"
     ]
    }
   ],
   "source": [
    "total_time = time() - start\n",
    "print(\"Total time :{}\".format(total_time))"
   ]
  },
  {
   "cell_type": "code",
   "execution_count": 8,
   "metadata": {},
   "outputs": [],
   "source": [
    "env.close()"
   ]
  }
 ],
 "metadata": {
  "kernelspec": {
   "display_name": "Python 3",
   "language": "python",
   "name": "python3"
  },
  "language_info": {
   "codemirror_mode": {
    "name": "ipython",
    "version": 3
   },
   "file_extension": ".py",
   "mimetype": "text/x-python",
   "name": "python",
   "nbconvert_exporter": "python",
   "pygments_lexer": "ipython3",
   "version": "3.7.4"
  }
 },
 "nbformat": 4,
 "nbformat_minor": 4
}
